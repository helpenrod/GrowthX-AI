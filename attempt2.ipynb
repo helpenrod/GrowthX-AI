{
  "nbformat": 4,
  "nbformat_minor": 0,
  "metadata": {
    "colab": {
      "provenance": [],
      "authorship_tag": "ABX9TyMYSe5GpHuiH9GODD7nk02i"
    },
    "kernelspec": {
      "name": "python3",
      "display_name": "Python 3"
    },
    "language_info": {
      "name": "python"
    }
  },
  "cells": [
    {
      "cell_type": "code",
      "execution_count": null,
      "metadata": {
        "colab": {
          "base_uri": "https://localhost:8080/"
        },
        "id": "8QfZ8kTSTwTW",
        "outputId": "c3bb8dcf-790e-41cb-d60e-2aa48ba75cea"
      },
      "outputs": [
        {
          "output_type": "stream",
          "name": "stdout",
          "text": [
            "Requirement already satisfied: transformers in /usr/local/lib/python3.10/dist-packages (4.46.2)\n",
            "Requirement already satisfied: beautifulsoup4 in /usr/local/lib/python3.10/dist-packages (4.12.3)\n",
            "Requirement already satisfied: requests in /usr/local/lib/python3.10/dist-packages (2.32.3)\n",
            "Requirement already satisfied: filelock in /usr/local/lib/python3.10/dist-packages (from transformers) (3.16.1)\n",
            "Requirement already satisfied: huggingface-hub<1.0,>=0.23.2 in /usr/local/lib/python3.10/dist-packages (from transformers) (0.26.2)\n",
            "Requirement already satisfied: numpy>=1.17 in /usr/local/lib/python3.10/dist-packages (from transformers) (1.26.4)\n",
            "Requirement already satisfied: packaging>=20.0 in /usr/local/lib/python3.10/dist-packages (from transformers) (24.2)\n",
            "Requirement already satisfied: pyyaml>=5.1 in /usr/local/lib/python3.10/dist-packages (from transformers) (6.0.2)\n",
            "Requirement already satisfied: regex!=2019.12.17 in /usr/local/lib/python3.10/dist-packages (from transformers) (2024.9.11)\n",
            "Requirement already satisfied: safetensors>=0.4.1 in /usr/local/lib/python3.10/dist-packages (from transformers) (0.4.5)\n",
            "Requirement already satisfied: tokenizers<0.21,>=0.20 in /usr/local/lib/python3.10/dist-packages (from transformers) (0.20.3)\n",
            "Requirement already satisfied: tqdm>=4.27 in /usr/local/lib/python3.10/dist-packages (from transformers) (4.66.6)\n",
            "Requirement already satisfied: soupsieve>1.2 in /usr/local/lib/python3.10/dist-packages (from beautifulsoup4) (2.6)\n",
            "Requirement already satisfied: charset-normalizer<4,>=2 in /usr/local/lib/python3.10/dist-packages (from requests) (3.4.0)\n",
            "Requirement already satisfied: idna<4,>=2.5 in /usr/local/lib/python3.10/dist-packages (from requests) (3.10)\n",
            "Requirement already satisfied: urllib3<3,>=1.21.1 in /usr/local/lib/python3.10/dist-packages (from requests) (2.2.3)\n",
            "Requirement already satisfied: certifi>=2017.4.17 in /usr/local/lib/python3.10/dist-packages (from requests) (2024.8.30)\n",
            "Requirement already satisfied: fsspec>=2023.5.0 in /usr/local/lib/python3.10/dist-packages (from huggingface-hub<1.0,>=0.23.2->transformers) (2024.10.0)\n",
            "Requirement already satisfied: typing-extensions>=3.7.4.3 in /usr/local/lib/python3.10/dist-packages (from huggingface-hub<1.0,>=0.23.2->transformers) (4.12.2)\n"
          ]
        }
      ],
      "source": [
        "pip install transformers beautifulsoup4 requests"
      ]
    },
    {
      "cell_type": "code",
      "source": [
        "import os\n",
        "import requests\n",
        "from bs4 import BeautifulSoup\n",
        "from transformers import pipeline"
      ],
      "metadata": {
        "id": "mSOtvQfggUmZ"
      },
      "execution_count": null,
      "outputs": []
    },
    {
      "cell_type": "code",
      "source": [
        "from huggingface_hub import login\n",
        "\n",
        "hf_token = os.environ.get('HF_TOKEN')"
      ],
      "metadata": {
        "id": "Os5q8j74elNO"
      },
      "execution_count": null,
      "outputs": []
    },
    {
      "cell_type": "code",
      "source": [
        "# Function to extract company information from a URL\n",
        "def get_company_data(url):\n",
        "    # Send a GET request to the URL\n",
        "    response = requests.get(url)\n",
        "\n",
        "    if response.status_code != 200:\n",
        "        raise Exception(f\"Failed to retrieve webpage: {url}\")\n",
        "\n",
        "    # Parse the HTML content of the page\n",
        "    soup = BeautifulSoup(response.text, 'html.parser')\n",
        "\n",
        "    # Extract the title of the company (assuming it's in a <title> tag)\n",
        "    title = soup.title.string if soup.title else \"Unknown Title\"\n",
        "\n",
        "    # Extract the description and other relevant information\n",
        "    # This depends on the structure of the webpage; here we use generic examples\n",
        "    # Adjust according to the page's HTML structure\n",
        "\n",
        "    # Example of extracting description (from meta tags)\n",
        "    description = soup.find('meta', attrs={'name': 'description'}) or soup.find('meta', attrs={'property': 'og:description'})\n",
        "    description = description['content'] if description else \"No description available.\"\n",
        "\n",
        "    # Example of extracting content (using paragraphs or div tags)\n",
        "    content = \" \".join([p.text for p in soup.find_all('p')])\n",
        "\n",
        "    return {\n",
        "        'title': title,\n",
        "        'description': description,\n",
        "        'content': content\n",
        "    }\n"
      ],
      "metadata": {
        "id": "9rrwLxo1Tzqc"
      },
      "execution_count": null,
      "outputs": []
    },
    {
      "cell_type": "code",
      "source": [
        "# Function to generate text using GPT-Neo\n",
        "def generate_article(company_data):\n",
        "    # Initialize the GPT-Neo model\n",
        "    generator = pipeline('text-generation', model='EleutherAI/gpt-neo-2.7B')\n",
        "\n",
        "    # Create the prompt using the company data\n",
        "    prompt = (\n",
        "        f\"Create a concise, informative article about the following company:\\n\\n\"\n",
        "        f\"Title: {company_data['title']}\\n\"\n",
        "        f\"Description: {company_data['description']}\\n\"\n",
        "        f\"Content: {company_data['content']}\\n\\n\"\n",
        "        f\"Summarize this information for a sales team.\"\n",
        "    )\n",
        "\n",
        "    # Generate the text using GPT-Neo\n",
        "    result = generator(prompt, max_new_tokens=100, num_return_sequences=1, truncation=True)\n",
        "\n",
        "    # Extract and return the generated text\n",
        "    generated_text = result[0]['generated_text']\n",
        "    return generated_text\n",
        "\n"
      ],
      "metadata": {
        "id": "bSixTlNnT9j5"
      },
      "execution_count": null,
      "outputs": []
    },
    {
      "cell_type": "code",
      "source": [
        "# Function to save generated article to a .txt file\n",
        "def save_to_txt(generated_text, filename=\"generated_article.txt\"):\n",
        "    with open(filename, 'w') as file:\n",
        "        file.write(generated_text)\n",
        "    print(f\"Article saved to {filename}\")\n",
        "\n"
      ],
      "metadata": {
        "id": "uaRJXaZSgjB3"
      },
      "execution_count": null,
      "outputs": []
    },
    {
      "cell_type": "code",
      "source": [
        "# URL of the company website\n",
        "url = 'https://www.shoreprosthetics.com/services'  # Replace with the actual company URL\n",
        "\n",
        "# Get the company data from the URL\n",
        "company_data = get_company_data(url)\n",
        "\n",
        "# Generate the article\n",
        "informative_article = generate_article(company_data)\n",
        "\n",
        "# Print the informative article\n",
        "print(informative_article)\n",
        "\n",
        "# Save the informative article to a .txt file\n",
        "save_to_txt(informative_article)"
      ],
      "metadata": {
        "colab": {
          "base_uri": "https://localhost:8080/"
        },
        "id": "Z5tdNCfKgl7w",
        "outputId": "8c77928f-51e1-4fe6-b523-7e3d38370792"
      },
      "execution_count": null,
      "outputs": [
        {
          "output_type": "stream",
          "name": "stderr",
          "text": [
            "Setting `pad_token_id` to `eos_token_id`:None for open-end generation.\n"
          ]
        },
        {
          "output_type": "stream",
          "name": "stdout",
          "text": [
            "Create a concise, informative article about the following company:\n",
            "\n",
            "Title: Services – Shore Prosthetics and Orthotics – USVI\n",
            "Description: No description available.\n",
            "Content: Services Whether you’re looking for the newest hi-tech device or just need an evaluation of your current prosthetic device, have one of our local clinicians help you get back to doing what you love! We believe that the best devices are a blend of both art and science. Or local clinical orthotic services will help you get back to your daily activities in no time! If you need an orthotic device for any condition, give us a call to set up an appointment. Our clinicians have amassed much knowledge and experience in treating most pediatric conditions requiring orthotic intervention. From cranial remolding helmet therapy for plagiocephaly and non-surgical scoliosis bracing treatment, to AFOs, KAFOs, HKAFOs for lower extremity as well as upper extremity bracing solutions, we are dedicated to enriching your child’s interaction with their environment and enhancing their lives. \n",
            "\n",
            "Summarize this information for a sales team. Give them a picture of what the product is and what it will do for them, but don't worry about the details.\n",
            "\n",
            "To create this document you must:\n",
            "\n",
            "Identify a business that provides services with at least 4 keywords that should be included in the document. The first 3 keywords should be used to identify the type of product the company is offering.\n",
            "\n",
            "The keywords should be chosen to represent the product type and make up the best description for the company, so you've hit\n",
            "Article saved to generated_article.txt\n"
          ]
        }
      ]
    },
    {
      "cell_type": "code",
      "source": [],
      "metadata": {
        "id": "o_FEJY0cgnJ4"
      },
      "execution_count": null,
      "outputs": []
    }
  ]
}