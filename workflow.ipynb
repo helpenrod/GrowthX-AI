{
  "nbformat": 4,
  "nbformat_minor": 0,
  "metadata": {
    "colab": {
      "provenance": [],
      "authorship_tag": "ABX9TyPgekmnXrJHV1NiliZvc3ld"
    },
    "kernelspec": {
      "name": "python3",
      "display_name": "Python 3"
    },
    "language_info": {
      "name": "python"
    }
  },
  "cells": [
    {
      "cell_type": "code",
      "execution_count": 3,
      "metadata": {
        "colab": {
          "base_uri": "https://localhost:8080/"
        },
        "id": "8QfZ8kTSTwTW",
        "outputId": "05fb5ad2-82ee-4f31-d2c6-c719ccf82c6f",
        "collapsed": true
      },
      "outputs": [
        {
          "output_type": "stream",
          "name": "stdout",
          "text": [
            "Requirement already satisfied: transformers in /usr/local/lib/python3.10/dist-packages (4.46.2)\n",
            "Requirement already satisfied: beautifulsoup4 in /usr/local/lib/python3.10/dist-packages (4.12.3)\n",
            "Requirement already satisfied: requests in /usr/local/lib/python3.10/dist-packages (2.32.3)\n",
            "Requirement already satisfied: filelock in /usr/local/lib/python3.10/dist-packages (from transformers) (3.16.1)\n",
            "Requirement already satisfied: huggingface-hub<1.0,>=0.23.2 in /usr/local/lib/python3.10/dist-packages (from transformers) (0.26.2)\n",
            "Requirement already satisfied: numpy>=1.17 in /usr/local/lib/python3.10/dist-packages (from transformers) (1.26.4)\n",
            "Requirement already satisfied: packaging>=20.0 in /usr/local/lib/python3.10/dist-packages (from transformers) (24.2)\n",
            "Requirement already satisfied: pyyaml>=5.1 in /usr/local/lib/python3.10/dist-packages (from transformers) (6.0.2)\n",
            "Requirement already satisfied: regex!=2019.12.17 in /usr/local/lib/python3.10/dist-packages (from transformers) (2024.9.11)\n",
            "Requirement already satisfied: safetensors>=0.4.1 in /usr/local/lib/python3.10/dist-packages (from transformers) (0.4.5)\n",
            "Requirement already satisfied: tokenizers<0.21,>=0.20 in /usr/local/lib/python3.10/dist-packages (from transformers) (0.20.3)\n",
            "Requirement already satisfied: tqdm>=4.27 in /usr/local/lib/python3.10/dist-packages (from transformers) (4.66.6)\n",
            "Requirement already satisfied: soupsieve>1.2 in /usr/local/lib/python3.10/dist-packages (from beautifulsoup4) (2.6)\n",
            "Requirement already satisfied: charset-normalizer<4,>=2 in /usr/local/lib/python3.10/dist-packages (from requests) (3.4.0)\n",
            "Requirement already satisfied: idna<4,>=2.5 in /usr/local/lib/python3.10/dist-packages (from requests) (3.10)\n",
            "Requirement already satisfied: urllib3<3,>=1.21.1 in /usr/local/lib/python3.10/dist-packages (from requests) (2.2.3)\n",
            "Requirement already satisfied: certifi>=2017.4.17 in /usr/local/lib/python3.10/dist-packages (from requests) (2024.8.30)\n",
            "Requirement already satisfied: fsspec>=2023.5.0 in /usr/local/lib/python3.10/dist-packages (from huggingface-hub<1.0,>=0.23.2->transformers) (2024.10.0)\n",
            "Requirement already satisfied: typing-extensions>=3.7.4.3 in /usr/local/lib/python3.10/dist-packages (from huggingface-hub<1.0,>=0.23.2->transformers) (4.12.2)\n"
          ]
        }
      ],
      "source": [
        "pip install transformers beautifulsoup4 requests"
      ]
    },
    {
      "cell_type": "code",
      "source": [
        "import os\n",
        "import requests\n",
        "from bs4 import BeautifulSoup\n",
        "from transformers import pipeline"
      ],
      "metadata": {
        "id": "mSOtvQfggUmZ"
      },
      "execution_count": 4,
      "outputs": []
    },
    {
      "cell_type": "code",
      "source": [
        "from huggingface_hub import login\n",
        "\n",
        "hf_token = os.environ.get('HF_TOKEN')"
      ],
      "metadata": {
        "id": "Os5q8j74elNO"
      },
      "execution_count": 5,
      "outputs": []
    },
    {
      "cell_type": "code",
      "source": [
        "# Function to extract company information from a URL\n",
        "def get_company_data(url):\n",
        "    # Send a GET request to the URL\n",
        "    response = requests.get(url)\n",
        "\n",
        "    if response.status_code != 200:\n",
        "        raise Exception(f\"Failed to retrieve webpage: {url}\")\n",
        "\n",
        "    # Parse the HTML content of the page\n",
        "    soup = BeautifulSoup(response.text, 'html.parser')\n",
        "\n",
        "    # Extract the title of the company (assuming it's in a <title> tag)\n",
        "    title = soup.title.string if soup.title else \"Unknown Title\"\n",
        "\n",
        "    # Extract the description and other relevant information\n",
        "    # This depends on the structure of the webpage; here we use generic examples\n",
        "    # Adjust according to the page's HTML structure\n",
        "\n",
        "    # Example of extracting description (from meta tags)\n",
        "    description = soup.find('meta', attrs={'name': 'description'}) or soup.find('meta', attrs={'property': 'og:description'})\n",
        "    description = description['content'] if description else \"No description available.\"\n",
        "\n",
        "    # Example of extracting content (using paragraphs or div tags)\n",
        "    content = \" \".join([p.text for p in soup.find_all('p')])\n",
        "\n",
        "    return {\n",
        "        'title': title,\n",
        "        'description': description,\n",
        "        'content': content\n",
        "    }\n"
      ],
      "metadata": {
        "id": "9rrwLxo1Tzqc"
      },
      "execution_count": 6,
      "outputs": []
    },
    {
      "cell_type": "code",
      "source": [
        "# Function to generate text using GPT-Neo\n",
        "def generate_article(company_data):\n",
        "    # Initialize the GPT-Neo model\n",
        "    generator = pipeline('text-generation', model='EleutherAI/gpt-neo-1.3B')\n",
        "\n",
        "    # Create the prompt using the company data\n",
        "    prompt = (\n",
        "        f\"You are a professional content writer helping a sales team understand potential clients. Your task is to create a concise and informative article about a company based on the information below.\\n\\n\"\n",
        "        f\"Company Name: {company_data['title']}\\n\"\n",
        "        f\"Description: {company_data['description']}\\n\"\n",
        "        f\"Content: {company_data['content']}\\n\\n\"\n",
        "        f\"Write a professional summary about the company in 3-5 sentences. Focus on their mission, services, and any standout qualities. The tone should be formal yet approachable, suitable for a sales briefing.\"\n",
        "    )\n",
        "\n",
        "    # Generate the text using GPT-Neo\n",
        "    result = generator(prompt, max_new_tokens=200, num_return_sequences=1, truncation=True)\n",
        "\n",
        "    # Extract and return the generated text\n",
        "    generated_text = result[0]['generated_text']\n",
        "    return generated_text\n",
        "\n"
      ],
      "metadata": {
        "id": "bSixTlNnT9j5"
      },
      "execution_count": 28,
      "outputs": []
    },
    {
      "cell_type": "code",
      "source": [
        "# Function to save generated article to a .txt file\n",
        "def save_to_txt(generated_text, filename=\"generated_article.txt\"):\n",
        "    with open(filename, 'w') as file:\n",
        "        file.write(generated_text)\n",
        "    print(f\"Article saved to {filename}\")\n",
        "\n"
      ],
      "metadata": {
        "id": "uaRJXaZSgjB3"
      },
      "execution_count": 8,
      "outputs": []
    },
    {
      "cell_type": "code",
      "source": [
        "# URL of the company website\n",
        "url = 'https://www.ug-inc.com/'\n",
        "\n",
        "# Get the company data from the URL\n",
        "company_data = get_company_data(url)\n",
        "\n",
        "# Generate the article\n",
        "informative_article = generate_article(company_data)\n",
        "\n",
        "# Print the informative article\n",
        "print(informative_article)\n",
        "\n",
        "# Save the informative article to a .txt file\n",
        "save_to_txt(informative_article)"
      ],
      "metadata": {
        "colab": {
          "base_uri": "https://localhost:8080/"
        },
        "id": "Z5tdNCfKgl7w",
        "outputId": "fb643db1-c4f1-426e-aa63-a4e9bc47e0ec"
      },
      "execution_count": 29,
      "outputs": [
        {
          "output_type": "stream",
          "name": "stderr",
          "text": [
            "Setting `pad_token_id` to `eos_token_id`:None for open-end generation.\n"
          ]
        },
        {
          "output_type": "stream",
          "name": "stdout",
          "text": [
            "You are a professional content writer helping a sales team understand potential clients. Your task is to create a concise and informative article about a company based on the information below.\n",
            "\n",
            "Company Name: Printing Services in El Paso | Universal Graphics, Inc. | Print Shop\n",
            "Description: We are a company specializing in commercial printing services. Our print shop services include promotional products, graphic & design, and much more.\n",
            "Content: Print Shop — Professional Printing Services in El Paso Since 1988, Universal Graphics, El Paso’s go-to print shop, has been at the center of the ever-changing printing industry. It began a generation ago. Founder Gil Lespron grew up watching his father busy at work in the printing press. He soon decided that the art and craft of print was something he was interested in. He too wanted to help people tell their stories through the printed word. Since then, the printing business has changed as the mechanisms and processes for creating print materials have vastly been impacted by technology. As an adept print shop, Universal Graphics has changed as well, adapting to the different technologies and printing trends but always dedicated to its customers and remaining a loyal part of the local community that made it possible. Today, Universal Graphics is a Woman-Owned, HUB-Certified print shop and is a member of the NPOA (National Print Owners Association), SGIA (Specialty Graphic Imaging Association), and ASI (Advertising Specialty Institute). As a well-equipped press and digital printer, Universal Graphics has an extensive list of\n",
            "                        services to cover all marketing and printing material needs for any business to promote, grow,\n",
            "                        and represent their brand. Whether you need offset printing, a banner printed for your event,\n",
            "                        flyers, booklets, envelopes or postcards. There is no better way to attract customers than\n",
            "                        well-designed and quality printed material. \n",
            "                        Universal Graphics has spent the last few decades immersing itself in the business of commercial\n",
            "                        printing and graphic design services. Throughout our long journey, we have learned the ins and\n",
            "                        outs of the industry, but we have always understood that what truly sets us apart is our\n",
            "                        commitment to the customer and the quality of our products.\n",
            "                     \n",
            "                        We value personal relationships with our customers and helping their business flourish. Our\n",
            "                        expertise lies in commercial printing. Universal Graphics serves customers all over the city and also\n",
            "                        in the surrounding areas of New Mexico such as Las Cruces and Alamogordo. We represent\n",
            "                        businesses through professional and quality designs and products.\n",
            "\n",
            "                     Universal Graphics is conveniently located on the Eastside of El Paso near Pellicano and\n",
            "                        Lomaland. Find us at the heart of East El Paso where the growing industries and private sector\n",
            "                        make it a vibrant and thriving area.  \n",
            "                    Contact Us Today. If you have questions about any of our\n",
            "                    services or how\n",
            "                    we can help your business please give us a call 915-591-8943. We look\n",
            "                    forward to serving you. Δ \n",
            "UNIVERSAL GRAPHICS, INC.\n",
            "1217 Barranca Dr STE. B\n",
            "\t\t\t\t\t\t\t\t\tEl Paso, TX 79935\n",
            " \n",
            "TELEPHONE:\n",
            "                                    Office: (915) 591-8943\n",
            " \n",
            "                                    By Appointment Only\n",
            "                                 Come pay us a visit at the shop! We look forward to helping your business thrive.\n",
            "                                    Visit\n",
            "                                    us at 1217\n",
            "                                    Barranca Dr. Suite B, El Paso, Texas. For any questions or inquiries about our\n",
            "                                    services,\n",
            "                                    give us a\n",
            "                                    call at 915-591-8943.\n",
            "                                 \n",
            "\n",
            "                                        #getprinted#ELPaso\n",
            "\n",
            "\n",
            "Write a professional summary about the company in 3-5 sentences. Focus on their mission, services, and any standout qualities. The tone should be formal yet approachable, suitable for a sales briefing.\n",
            "\n",
            "\n",
            "Here's a sample:\n",
            " \n",
            "\n",
            "This is a very informative article.\n",
            " \n",
            "\n",
            "We are a\n",
            " \n",
            "                        company specializing in commercial printing services. Our print shop services include promotional\n",
            "                        products, graphic & design, and much more.\n",
            "                    \n",
            "                       What we do is professional printing services. Whether you need offset printing, a banner printed for your event,\n",
            "                        flyers, booklets, envelopes or postcards. We have\n",
            "Article saved to generated_article.txt\n"
          ]
        }
      ]
    },
    {
      "cell_type": "code",
      "source": [],
      "metadata": {
        "id": "o_FEJY0cgnJ4"
      },
      "execution_count": null,
      "outputs": []
    }
  ]
}